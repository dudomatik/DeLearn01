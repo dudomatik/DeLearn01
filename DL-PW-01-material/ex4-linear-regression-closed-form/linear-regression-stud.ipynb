{
 "cells": [
  {
   "cell_type": "markdown",
   "id": "18bdba27",
   "metadata": {},
   "source": [
    "# Linear Regression"
   ]
  },
  {
   "cell_type": "markdown",
   "id": "3629bfdf",
   "metadata": {},
   "source": [
    "## Imports"
   ]
  },
  {
   "cell_type": "code",
   "execution_count": 1,
   "id": "d6eb2aab",
   "metadata": {},
   "outputs": [],
   "source": [
    "import random\n",
    "import pandas as pd\n",
    "import numpy as np\n",
    "from numpy.linalg import inv\n",
    "import matplotlib.pyplot as plt"
   ]
  },
  {
   "cell_type": "markdown",
   "id": "e69e5d68",
   "metadata": {},
   "source": [
    "## Load data"
   ]
  },
  {
   "cell_type": "markdown",
   "id": "ba14bf9f",
   "metadata": {},
   "source": [
    "Define the path to the file containing the data"
   ]
  },
  {
   "cell_type": "code",
   "execution_count": 2,
   "id": "5f3f924f",
   "metadata": {},
   "outputs": [],
   "source": [
    "datafile = \"lausanne-appart.csv\""
   ]
  },
  {
   "cell_type": "markdown",
   "id": "adfab574",
   "metadata": {},
   "source": [
    "Read the data"
   ]
  },
  {
   "cell_type": "code",
   "execution_count": 3,
   "id": "5108e239",
   "metadata": {},
   "outputs": [],
   "source": [
    "dataset = pd.read_csv(datafile)"
   ]
  },
  {
   "cell_type": "markdown",
   "id": "5a97d4cc",
   "metadata": {},
   "source": [
    "Display first rows"
   ]
  },
  {
   "cell_type": "code",
   "execution_count": 4,
   "id": "34222aff",
   "metadata": {},
   "outputs": [
    {
     "data": {
      "text/html": [
       "<div>\n",
       "<style scoped>\n",
       "    .dataframe tbody tr th:only-of-type {\n",
       "        vertical-align: middle;\n",
       "    }\n",
       "\n",
       "    .dataframe tbody tr th {\n",
       "        vertical-align: top;\n",
       "    }\n",
       "\n",
       "    .dataframe thead th {\n",
       "        text-align: right;\n",
       "    }\n",
       "</style>\n",
       "<table border=\"1\" class=\"dataframe\">\n",
       "  <thead>\n",
       "    <tr style=\"text-align: right;\">\n",
       "      <th></th>\n",
       "      <th>living_area</th>\n",
       "      <th>nb_rooms</th>\n",
       "      <th>rent_price</th>\n",
       "    </tr>\n",
       "  </thead>\n",
       "  <tbody>\n",
       "    <tr>\n",
       "      <th>0</th>\n",
       "      <td>69</td>\n",
       "      <td>3.0</td>\n",
       "      <td>1810</td>\n",
       "    </tr>\n",
       "    <tr>\n",
       "      <th>1</th>\n",
       "      <td>95</td>\n",
       "      <td>3.5</td>\n",
       "      <td>2945</td>\n",
       "    </tr>\n",
       "    <tr>\n",
       "      <th>2</th>\n",
       "      <td>21</td>\n",
       "      <td>1.5</td>\n",
       "      <td>685</td>\n",
       "    </tr>\n",
       "    <tr>\n",
       "      <th>3</th>\n",
       "      <td>20</td>\n",
       "      <td>1.0</td>\n",
       "      <td>720</td>\n",
       "    </tr>\n",
       "    <tr>\n",
       "      <th>4</th>\n",
       "      <td>33</td>\n",
       "      <td>1.5</td>\n",
       "      <td>830</td>\n",
       "    </tr>\n",
       "  </tbody>\n",
       "</table>\n",
       "</div>"
      ],
      "text/plain": [
       "   living_area  nb_rooms  rent_price\n",
       "0           69       3.0        1810\n",
       "1           95       3.5        2945\n",
       "2           21       1.5         685\n",
       "3           20       1.0         720\n",
       "4           33       1.5         830"
      ]
     },
     "execution_count": 4,
     "metadata": {},
     "output_type": "execute_result"
    }
   ],
   "source": [
    "dataset.head()"
   ]
  },
  {
   "cell_type": "code",
   "execution_count": 5,
   "id": "4acfda23",
   "metadata": {},
   "outputs": [
    {
     "name": "stdout",
     "output_type": "stream",
     "text": [
      "<class 'numpy.ndarray'>\n",
      "(201,) (201,)\n"
     ]
    }
   ],
   "source": [
    "# get numpy arrays from panda objects\n",
    "rent_price = dataset.rent_price.values\n",
    "living_area = dataset.living_area.values\n",
    "print(type(rent_price))\n",
    "print(rent_price.shape, living_area.shape)"
   ]
  },
  {
   "cell_type": "markdown",
   "id": "2ec4b8eb",
   "metadata": {},
   "source": [
    "## Part 1 - Visualize the data"
   ]
  },
  {
   "cell_type": "markdown",
   "id": "dbf6b9cf",
   "metadata": {},
   "source": [
    "a) Plot a histogram to visualize the distribution of the renting price"
   ]
  },
  {
   "cell_type": "code",
   "execution_count": 6,
   "id": "ad07d4cd",
   "metadata": {},
   "outputs": [
    {
     "data": {
      "image/png": "[encoded data removed]",
      "text/plain": [
       "<Figure size 800x400 with 1 Axes>"
      ]
     },
     "metadata": {},
     "output_type": "display_data"
    }
   ],
   "source": [
    "plt.figure(1, figsize=(8, 4))\n",
    "plt.hist(rent_price)\n",
    "plt.xlabel(\"Rent (CHF)\")\n",
    "plt.title(\"Rent distribution\")\n",
    "plt.xlim(np.min(rent_price), np.max(rent_price))\n",
    "plt.show()"
   ]
  },
  {
   "cell_type": "markdown",
   "id": "602770ae",
   "metadata": {},
   "source": [
    "b) Plot a histogram to visualize the distribution of the living area"
   ]
  },
  {
   "cell_type": "code",
   "execution_count": 11,
   "id": "ac0c9f07",
   "metadata": {},
   "outputs": [
    {
     "data": {
      "image/png": "[encoded data removed]",
      "text/plain": [
       "<Figure size 800x400 with 1 Axes>"
      ]
     },
     "metadata": {},
     "output_type": "display_data"
    }
   ],
   "source": [
    "# Your code here\n",
    "plt.figure(1, figsize=(8, 4))\n",
    "plt.hist(living_area)\n",
    "plt.xlabel(\"Living Area (m²)\")\n",
    "plt.title(\"Living Area distribution\")\n",
    "plt.xlim(np.min(living_area), np.max(living_area))\n",
    "plt.show()"
   ]
  },
  {
   "cell_type": "markdown",
   "id": "b9a954dd",
   "metadata": {},
   "source": [
    "c) Plot a scatter plot of renting price as a function of living area"
   ]
  },
  {
   "cell_type": "code",
   "execution_count": 12,
   "id": "6d015af9",
   "metadata": {},
   "outputs": [
    {
     "data": {
      "image/png": "[encoded data removed]",
      "text/plain": [
       "<Figure size 800x400 with 1 Axes>"
      ]
     },
     "metadata": {},
     "output_type": "display_data"
    }
   ],
   "source": [
    "# Your code here\n",
    "plt.figure(1, figsize=(8, 4))\n",
    "plt.scatter(living_area, rent_price)\n",
    "plt.xlabel(\"Living Area (m²)\")\n",
    "plt.ylabel(\"Rent (CHF)\")\n",
    "plt.title(\"Rent vs Living Area\")\n",
    "plt.show()"
   ]
  },
  {
   "cell_type": "markdown",
   "id": "9c787c4b",
   "metadata": {},
   "source": [
    "## Part 2 - Normal equations for linear regression - using numpy arrays"
   ]
  },
  {
   "cell_type": "markdown",
   "id": "859bbd89",
   "metadata": {},
   "source": [
    "a) Implement the closed form solution to this problem using the following normal equation:"
   ]
  },
  {
   "cell_type": "markdown",
   "id": "cf1d5eda",
   "metadata": {},
   "source": [
    "<div><div style=\"display: table-cell; width: 100%;\"><center>$\\theta = (X^{T}X)^{-1}X^{T}\\vec{y}$</center></div><div style=\"display: table-cell; width: 100%;\">$(3)$</div></div>"
   ]
  },
  {
   "cell_type": "markdown",
   "id": "c3c8e4c1",
   "metadata": {},
   "source": [
    "Assuming $x$ is the living area and $y$ is the renting price. Use `numpy` for the vector operations. Plot the computed line on top of the scatter plot of Part 1."
   ]
  },
  {
   "cell_type": "code",
   "execution_count": null,
   "id": "19ffbbd9",
   "metadata": {},
   "outputs": [],
   "source": [
    "#######################################################################\n",
    "# TODO:                                                               #\n",
    "# Perform the following computation                                   #\n",
    "#  - get N, the number of samples                                     #\n",
    "#  - compose X with the 1st column full of 1.0 and the 2nd column     #\n",
    "#    with the living area (hint: have a look to no.ones() and         #\n",
    "#    np.column_stack()                                                #\n",
    "#  - get y as the rent prices                                         #\n",
    "#  - compute the theta (hint: matrix A to matrix B multiplication can #\n",
    "#    be done with A.dot(B))                                           #\n",
    "#  - plot the line (hint: compute a set of x points linearly spaced   #\n",
    "#    and, with the thetas, compute the corresponding y values)        #\n",
    "#######################################################################\n",
    "\n",
    "\n",
    "\n",
    "#######################################################################\n",
    "#                         END OF YOUR CODE                            #\n",
    "#######################################################################"
   ]
  },
  {
   "cell_type": "markdown",
   "id": "ccc5d7b9",
   "metadata": {},
   "source": [
    "b) Compute the MSE loss according to the following equation:"
   ]
  },
  {
   "cell_type": "markdown",
   "id": "31a38211",
   "metadata": {},
   "source": [
    "<div><div style=\"display: table-cell; width: 100%;\"><center>$J(\\theta) = \\frac{1}{2N} \\sum_{n=1}^{N} (h_{\\theta}(\\mathbf{x}_{n}) - y_{n})^{2}$</center></div><div style=\"display: table-cell; width: 100%;\">$(2)$</div></div>"
   ]
  },
  {
   "cell_type": "code",
   "execution_count": null,
   "id": "db65a2fa",
   "metadata": {},
   "outputs": [],
   "source": [
    "#######################################################################\n",
    "# TODO:                                                               #\n",
    "#  - define a function h_theta(x, theta_0, theta_1) to compute the    #\n",
    "#    the hypothesised values of y (the \"y_hat\")                       #\n",
    "#  - define a function mse_loss(x, y, y_hat)                          #\n",
    "#  - use both functions to compute the MSE loss on the dataset        #\n",
    "#######################################################################\n",
    "\n",
    "\n",
    "\n",
    "#######################################################################\n",
    "#                         END OF YOUR CODE                            #\n",
    "#######################################################################"
   ]
  },
  {
   "cell_type": "markdown",
   "id": "fb43493a",
   "metadata": {},
   "source": [
    "## Part 3 - Normal equations for linear regression - using pytorch tensors\n",
    "\n",
    "Redo the part 2, this time using pytorch tensors."
   ]
  },
  {
   "cell_type": "code",
   "execution_count": null,
   "id": "7a6298f0",
   "metadata": {},
   "outputs": [],
   "source": [
    "#######################################################################\n",
    "# TODO:                                                               #\n",
    "# Perform the following computation                                   #\n",
    "#  - in a similar way as in the previous part 2, compute theta0 and   #\n",
    "#    theta1, plot the computed line                                   #\n",
    "#  - compute the loss J with these new values of theta0 and theta1,   #\n",
    "#    for that you may use mse_loss() function defined abouve          #\n",
    "#######################################################################\n",
    "import torch\n",
    "\n",
    "\n",
    "\n",
    "#######################################################################\n",
    "#                         END OF YOUR CODE                            #\n",
    "#######################################################################"
   ]
  }
 ],
 "metadata": {
  "kernelspec": {
   "display_name": "DeLearn01",
   "language": "python",
   "name": "python3"
  },
  "language_info": {
   "codemirror_mode": {
    "name": "ipython",
    "version": 3
   },
   "file_extension": ".py",
   "mimetype": "text/x-python",
   "name": "python",
   "nbconvert_exporter": "python",
   "pygments_lexer": "ipython3",
   "version": "3.9.13"
  },
  "vscode": {
   "interpreter": {
    "hash": "d1cb8d01bc6ecb2d7080f4b2b311839ec2d8b4bbe687ac8459825f0d25f4f085"
   }
  }
 },
 "nbformat": 4,
 "nbformat_minor": 5
}
